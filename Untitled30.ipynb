{
  "nbformat": 4,
  "nbformat_minor": 0,
  "metadata": {
    "colab": {
      "private_outputs": true,
      "provenance": [],
      "mount_file_id": "1Lsa-VeccqTO66ButHHqYY8SWGN9-A4bs",
      "authorship_tag": "ABX9TyOTi+Xa9e+P30fuj+skPX9W",
      "include_colab_link": true
    },
    "kernelspec": {
      "name": "python3",
      "display_name": "Python 3"
    },
    "language_info": {
      "name": "python"
    }
  },
  "cells": [
    {
      "cell_type": "markdown",
      "metadata": {
        "id": "view-in-github",
        "colab_type": "text"
      },
      "source": [
        "<a href=\"https://colab.research.google.com/github/eduardosousa1992/Analise_Descritiva/blob/main/Untitled30.ipynb\" target=\"_parent\"><img src=\"https://colab.research.google.com/assets/colab-badge.svg\" alt=\"Open In Colab\"/></a>"
      ]
    },
    {
      "cell_type": "code",
      "source": [
        "# Se o arquivo estiver no Colab (upload direto):\n",
        "dados = pd.read_csv('cidades.csv')"
      ],
      "metadata": {
        "id": "lx_DVJS8Z-vv"
      },
      "execution_count": null,
      "outputs": []
    },
    {
      "cell_type": "code",
      "source": [
        "#Lendo os dados do CSV\n",
        "print(dados.head())"
      ],
      "metadata": {
        "id": "rUPTk2CUeW-k"
      },
      "execution_count": null,
      "outputs": []
    },
    {
      "cell_type": "code",
      "source": [
        "#Verificando informações do dataframe\n",
        "print(dados.info())"
      ],
      "metadata": {
        "id": "zkXb2hgsefq8"
      },
      "execution_count": null,
      "outputs": []
    },
    {
      "cell_type": "code",
      "source": [
        "#Obtendo estatisticas do CSV\n",
        "print(dados.describe())"
      ],
      "metadata": {
        "id": "4sL-xtfgeniC"
      },
      "execution_count": null,
      "outputs": []
    },
    {
      "cell_type": "code",
      "source": [
        "# Leitura de todas as abas de um arquivo Excel\n",
        "dados = pd.read_excel('cidades.xlsx', sheet_name=None)"
      ],
      "metadata": {
        "id": "sqEYcT14e48Z"
      },
      "execution_count": null,
      "outputs": []
    },
    {
      "cell_type": "code",
      "source": [
        "dados = pd.read_xml('cidades.xml')\n",
        "print(dados.head())"
      ],
      "metadata": {
        "id": "YieNt-9jflTL"
      },
      "execution_count": null,
      "outputs": []
    },
    {
      "cell_type": "code",
      "source": [
        "#Para salvar um DataFrame como XML,utilizamos a função to_xml():\n",
        "dados.to_xml('cidades.xml')"
      ],
      "metadata": {
        "id": "EAayJ6zvgstd"
      },
      "execution_count": null,
      "outputs": []
    },
    {
      "cell_type": "code",
      "source": [
        "dados = pd.read_html('cidades.html')"
      ],
      "metadata": {
        "id": "ARx26qNrg-4X"
      },
      "execution_count": null,
      "outputs": []
    },
    {
      "cell_type": "code",
      "source": [
        "dados = pd.read_html('cidades.html', encoding='utf-8')"
      ],
      "metadata": {
        "id": "Desb2-0ZhUcM"
      },
      "execution_count": null,
      "outputs": []
    },
    {
      "cell_type": "code",
      "source": [
        "dados"
      ],
      "metadata": {
        "id": "-F3l95EQhwRq"
      },
      "execution_count": null,
      "outputs": []
    }
  ]
}